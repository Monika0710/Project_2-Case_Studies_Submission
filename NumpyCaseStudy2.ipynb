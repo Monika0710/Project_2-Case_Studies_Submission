{
 "cells": [
  {
   "cell_type": "markdown",
   "metadata": {},
   "source": [
    "# This case study consists of 1000 marks and the solution file is expected to be submitted in the upcoming session for evaluation."
   ]
  },
  {
   "cell_type": "code",
   "execution_count": 1,
   "metadata": {},
   "outputs": [],
   "source": [
    "import numpy as np\n",
    "import random"
   ]
  },
  {
   "cell_type": "markdown",
   "metadata": {},
   "source": [
    "### 1.Create two matrices of 3*3 and perform the arithmatic operations metioned in below \"print\" statements"
   ]
  },
  {
   "cell_type": "code",
   "execution_count": 12,
   "metadata": {},
   "outputs": [
    {
     "name": "stdout",
     "output_type": "stream",
     "text": [
      "\n",
      "1st Matrix of random single-digit numbers\n",
      "----------------------------------------\n",
      " [[0 0 7]\n",
      " [0 5 0]\n",
      " [8 1 1]]\n",
      "\n",
      "2nd Matrix of random single-digit numbers\n",
      "----------------------------------------\n",
      " [[13  9 12]\n",
      " [15 16 17]\n",
      " [14 12  9]]\n",
      "\n",
      "Addition\n",
      "------------------\n",
      " [[13  9 19]\n",
      " [15 21 17]\n",
      " [22 13 10]]\n",
      "\n",
      "Multiplication\n",
      "------------------\n",
      " [[  0   0  84]\n",
      " [  0  80   0]\n",
      " [112  12   9]]\n",
      "\n",
      "Division\n",
      "------------------\n",
      " [[0.         0.         0.58333333]\n",
      " [0.         0.3125     0.        ]\n",
      " [0.57142857 0.08333333 0.11111111]]\n",
      "\n",
      "Linear combination: 3*A - 2*B\n",
      "-----------------------------\n",
      " [[-26 -18  -3]\n",
      " [-30 -17 -34]\n",
      " [ -4 -21 -15]]\n",
      "\n",
      "Addition of a scalar (100)\n",
      "-------------------------\n",
      " [[1000 1000 1007]\n",
      " [1000 1005 1000]\n",
      " [1008 1001 1001]]\n",
      "\n",
      "Exponentiation, matrix cubed here\n",
      "----------------------------------------\n",
      " [[  0   0 343]\n",
      " [  0 125   0]\n",
      " [512   1   1]]\n",
      "\n",
      "Exponentiation, mat1 sq-root using pow function\n",
      "-------------------------------------------\n",
      " [[0.         0.         2.64575131]\n",
      " [0.         2.23606798 0.        ]\n",
      " [2.82842712 1.         1.        ]]\n"
     ]
    }
   ],
   "source": [
    "# mat1 = np.array(np.random.randint(0,9,9)).reshape(3,3)\n",
    "# mat2 = np.array(np.random.randint(9,18,9)).reshape(3,3)\n",
    "print(\"\\n1st Matrix of random single-digit numbers\\n----------------------------------------\\n\",mat1)\n",
    "print(\"\\n2nd Matrix of random single-digit numbers\\n----------------------------------------\\n\",mat2)\n",
    "\n",
    "\n",
    "print(\"\\nAddition\\n------------------\\n\", np.array(mat1+mat2))\n",
    "print(\"\\nMultiplication\\n------------------\\n\", mat1*mat2)\n",
    "\n",
    "\n",
    "print(\"\\nDivision\\n------------------\\n\", mat1/mat2)\n",
    "print(\"\\nLinear combination: 3*A - 2*B\\n-----------------------------\\n\", 3*(mat1)-2*(mat2))\n",
    "\n",
    "\n",
    "print(\"\\nAddition of a scalar (100)\\n-------------------------\\n\", mat1+1000)\n",
    "\n",
    "\n",
    "print(\"\\nExponentiation, matrix cubed here\\n----------------------------------------\\n\", pow(mat1,3))\n",
    "print(\"\\nExponentiation, mat1 sq-root using pow function\\n-------------------------------------------\\n\",pow(mat1,0.5))"
   ]
  },
  {
   "cell_type": "markdown",
   "metadata": {},
   "source": [
    "Some operations, such as += and *=, act in place to modify an existing array rather than create a new one."
   ]
  },
  {
   "cell_type": "markdown",
   "metadata": {},
   "source": [
    "NumPy provides familiar mathematical functions such as sin, cos, and exp. In NumPy, these are called “universal functions”(ufunc). Within NumPy, these functions operate elementwise on an array, producing an array as output."
   ]
  },
  {
   "cell_type": "markdown",
   "metadata": {},
   "source": [
    "### 2.Create two 3 * 3 matrices and perform the following operations as describe in print statement."
   ]
  },
  {
   "cell_type": "code",
   "execution_count": 25,
   "metadata": {
    "scrolled": true
   },
   "outputs": [
    {
     "name": "stdout",
     "output_type": "stream",
     "text": [
      "\n",
      "1st Matrix of random single-digit numbers\n",
      " -------------------------------------------------- \n",
      " [[7 3 2]\n",
      " [5 7 5]\n",
      " [1 6 4]]\n",
      "\n",
      "2nd Matrix of random single-digit numbers\n",
      " -------------------------------------------------- \n",
      " [[1 4 1]\n",
      " [3 4 4]\n",
      " [3 4 0]]\n",
      "\n",
      "Sum of all numbers in 1st matrix\n",
      " -------------------------------------------------- \n",
      " 40\n",
      "\n",
      "Sum of all numbers in columns of 1st matrix\n",
      " -------------------------------------------------- \n",
      " [13 16 11]\n",
      "\n",
      "Sum of all numbers in rows of 1st matrix\n",
      " -------------------------------------------------- \n",
      " [12 17 11]\n",
      "\n",
      "Product of all numbers in rows of 1st matrix\n",
      " -------------------------------------------------- \n",
      " [ 42 175  24]\n",
      "\n",
      "Product of all numbers in columns of 2nd matrix\n",
      " -------------------------------------------------- \n",
      " [ 9 64  0]\n",
      "\n",
      "Mean of all numbers in 1st matrix\n",
      " -------------------------------------------------- \n",
      " 4.444444444444445\n",
      "\n",
      "Standard deviation of all numbers in 1st matrix\n",
      " -------------------------------------------------- \n",
      " 2.006163342807532\n",
      "\n",
      "Modified matrix of random numbers from 1 to 99\n",
      " -------------------------------------------------- \n",
      " [[26 56 18]\n",
      " [10 53 71]\n",
      " [31 95 54]]\n",
      "\n",
      "Standard deviation of all numbers in the modified matrix, a larger number\n",
      " -------------------------------------------------------------------------------- \n",
      " 25.699113689861843\n",
      "\n",
      "Variance of all numbers in the modified matrix, a larger number\n",
      " -------------------------------------------------------------------------------- \n",
      " 660.4444444444445\n",
      "\n",
      "Median of all numbers in the modified matrix\n",
      " ------------------------------------------------------------ \n",
      " 53.0\n"
     ]
    }
   ],
   "source": [
    "from numpy.random import randint as ri\n",
    "mat1 = np.array(np.random.randint(0,9,9)).reshape(3,3)\n",
    "mat2 = np.array(np.random.randint(0,5,9)).reshape(3,3)\n",
    "print(\"\\n1st Matrix of random single-digit numbers\\n\",\"-\"*50,\"\\n\",mat1)\n",
    "print(\"\\n2nd Matrix of random single-digit numbers\\n\",\"-\"*50,\"\\n\",mat2)\n",
    "\n",
    "\n",
    "print(\"\\nSum of all numbers in 1st matrix\\n\",\"-\"*50,\"\\n\",np.sum(mat1))\n",
    "print(\"\\nSum of all numbers in columns of 1st matrix\\n\",\"-\"*50,\"\\n\",np.sum(mat1,axis =0))\n",
    "\n",
    "\n",
    "print(\"\\nSum of all numbers in rows of 1st matrix\\n\",\"-\"*50,\"\\n\",np.sum(mat1,axis =1))\n",
    "print(\"\\nProduct of all numbers in rows of 1st matrix\\n\",\"-\"*50,\"\\n\",np.prod(mat1,axis =1))\n",
    "\n",
    "\n",
    "print(\"\\nProduct of all numbers in columns of 2nd matrix\\n\",\"-\"*50,\"\\n\",np.prod(mat2,axis =0))\n",
    "print(\"\\nMean of all numbers in 1st matrix\\n\",\"-\"*50,\"\\n\",np.mean(mat1))\n",
    "\n",
    "\n",
    "print(\"\\nStandard deviation of all numbers in 1st matrix\\n\",\"-\"*50,\"\\n\",np.std(mat1))\n",
    "\n",
    "\n",
    "mat1 = np.array(np.random.randint(1,99,9)).reshape(3,3)\n",
    "print(\"\\nModified matrix of random numbers from 1 to 99\\n\",\"-\"*50,\"\\n\",mat1)\n",
    "\n",
    "\n",
    "print(\"\\nStandard deviation of all numbers in the modified matrix, a larger number\\n\",\"-\"*80,\"\\n\",np.std(mat1))\n",
    "\n",
    "\n",
    "print(\"\\nVariance of all numbers in the modified matrix, a larger number\\n\",\"-\"*80,\"\\n\",np.var(mat1))\n",
    "\n",
    "\n",
    "print(\"\\nMedian of all numbers in the modified matrix\\n\",\"-\"*60,\"\\n\",np.median(mat1))\n"
   ]
  },
  {
   "cell_type": "markdown",
   "metadata": {},
   "source": [
    "###  3.Create a 3 \\* 3 Matrix and Modify its shape to 9\\*1 matrix."
   ]
  },
  {
   "cell_type": "code",
   "execution_count": 29,
   "metadata": {},
   "outputs": [
    {
     "name": "stdout",
     "output_type": "stream",
     "text": [
      "Before changing shape\n",
      " -------------------------------------------------- \n",
      " [[1 3 3]\n",
      " [0 7 2]\n",
      " [5 6 1]]\n",
      "After changing shape\n",
      " -------------------------------------------------- \n",
      " [[1]\n",
      " [3]\n",
      " [3]\n",
      " [0]\n",
      " [7]\n",
      " [2]\n",
      " [5]\n",
      " [6]\n",
      " [1]]\n"
     ]
    }
   ],
   "source": [
    "##Solution\n",
    "mat2 = np.array(np.random.randint(0,9,9)).reshape(3,3)\n",
    "\n",
    "print(\"Before changing shape\\n\",'-'*50,\"\\n\",mat2)\n",
    "\n",
    "mat3 =mat2.reshape(9,1)\n",
    "\n",
    "print(\"After changing shape\\n\",'-'*50,\"\\n\",mat3)\n"
   ]
  },
  {
   "cell_type": "markdown",
   "metadata": {},
   "source": [
    "### 4.Sort"
   ]
  },
  {
   "cell_type": "code",
   "execution_count": 30,
   "metadata": {},
   "outputs": [
    {
     "name": "stdout",
     "output_type": "stream",
     "text": [
      "\n",
      "Vector of 10 random integers from 1 to 100\n",
      " -------------------------------------------------- \n",
      " [5 7 8 5 6 8 1 3 7]\n",
      "\n",
      "Here is the sorted vector\n",
      " -------------------------------------------------- \n",
      " [1 3 5 5 6 7 7 8 8]\n"
     ]
    }
   ],
   "source": [
    "A = np.array(np.random.randint(0,9,9)) # Vector of random interegrs\n",
    "print(\"\\nVector of 10 random integers from 1 to 100\\n\",'-'*50,\"\\n\",A)\n",
    "print(\"\\nHere is the sorted vector\\n\",'-'*50,\"\\n\",np.sort(A))\n"
   ]
  },
  {
   "cell_type": "code",
   "execution_count": 31,
   "metadata": {},
   "outputs": [
    {
     "name": "stdout",
     "output_type": "stream",
     "text": [
      "\n",
      "5x5 Matrix of random integers\n",
      " -------------------------------------------------- \n",
      " [[4 5 3 5 1]\n",
      " [4 0 4 6 6]\n",
      " [6 5 8 1 5]\n",
      " [3 0 3 7 8]\n",
      " [3 3 8 2 0]]\n",
      "\n",
      "Here is the sorted matrix along each row\n",
      " -------------------------------------------------- \n",
      " [[1 3 4 5 5]\n",
      " [0 4 4 6 6]\n",
      " [1 5 5 6 8]\n",
      " [0 3 3 7 8]\n",
      " [0 2 3 3 8]]\n",
      "\n",
      "Here is the sorted matrix along each column\n",
      " -------------------------------------------------- \n",
      " [[3 0 3 1 0]\n",
      " [3 0 3 2 1]\n",
      " [4 3 4 5 5]\n",
      " [4 5 8 6 6]\n",
      " [6 5 8 7 8]]\n"
     ]
    }
   ],
   "source": [
    "M = np.array(np.random.randint(0,9,25)).reshape(5,5) #  5*5 Matrix of random interegrs\n",
    "print(\"\\n5x5 Matrix of random integers\\n\",'-'*50,\"\\n\",M)\n",
    "print(\"\\nHere is the sorted matrix along each row\\n\",'-'*50,\"\\n\",np.sort(M,axis =1)) # Default axis =1\n",
    "print(\"\\nHere is the sorted matrix along each column\\n\",'-'*50,\"\\n\",np.sort(M,axis =0))"
   ]
  },
  {
   "cell_type": "markdown",
   "metadata": {},
   "source": [
    "### 5.Create a,b,c  10 element vectors of random integers and perform the respective operation mentioned in print statement"
   ]
  },
  {
   "cell_type": "code",
   "execution_count": 32,
   "metadata": {},
   "outputs": [
    {
     "name": "stdout",
     "output_type": "stream",
     "text": [
      "a: [2 4 4 3 2 1 0 1 1 4]\n",
      "b: [3 4 4 1 4 1 5 3 1 2]\n",
      "c: [4 4 0 2 0 2 2 1 3 1]\n",
      "Max of a: 4\n",
      "Max of b: 5\n",
      "Max of a location: 1\n",
      "Max of b location: 6\n",
      "Max of c location: 0\n"
     ]
    }
   ],
   "source": [
    "# Fill the following ***** with appropriate solution.\n",
    "a=np.array(np.random.randint(0,6,10))\n",
    "b=np.array(np.random.randint(0,6,10))\n",
    "c=np.array(np.random.randint(0,6,10))\n",
    "\n",
    "print(\"a:\", a)\n",
    "print(\"b:\", b)\n",
    "print(\"c:\", c)\n",
    "\n",
    "print(\"Max of a:\", max(a))\n",
    "print(\"Max of b:\",max(b))\n",
    "\n",
    "\n",
    "print(\"Max of a location:\", np.argmax(a))\n",
    "print(\"Max of b location:\", np.argmax(b))\n",
    "print(\"Max of c location:\", np.argmax(c))\n",
    "\n",
    "\n",
    "\n",
    "\n"
   ]
  },
  {
   "cell_type": "markdown",
   "metadata": {},
   "source": [
    "## Universal functions\n",
    "\n",
    "6. Create 3*3 matrices of random single-digit numbers.<br/>\n",
    "Apply universal functions on it. (square root,exponetial,log10,Modulo etc.)"
   ]
  },
  {
   "cell_type": "code",
   "execution_count": 37,
   "metadata": {},
   "outputs": [
    {
     "name": "stdout",
     "output_type": "stream",
     "text": [
      "\n",
      "1st Matrix of random single-digit numbers\n",
      "----------------------------------------\n",
      " [[2 4 1]\n",
      " [5 5 1]\n",
      " [1 3 3]]\n",
      "\n",
      "2nd Matrix of random single-digit numbers\n",
      "----------------------------------------\n",
      " [[2 0 4]\n",
      " [0 1 1]\n",
      " [1 2 2]]\n",
      "\n",
      "Sq-root of 1st matrix using np\n",
      "------------------\n",
      " [[1.41421356 2.         1.        ]\n",
      " [2.23606798 2.23606798 1.        ]\n",
      " [1.         1.73205081 1.73205081]]\n",
      "\n",
      "Exponential power of 1st matrix using np\n",
      " -------------------------------------------------- \n",
      " [[ 4 16  1]\n",
      " [25 25  1]\n",
      " [ 1  9  9]]\n",
      "\n",
      "10-base logarithm on 1st matrix using np\n",
      " -------------------------------------------------- \n",
      " [[0.30103    0.60205999 0.        ]\n",
      " [0.69897    0.69897    0.        ]\n",
      " [0.         0.47712125 0.47712125]]\n",
      "\n",
      "Modulo reminder using np\n",
      " -------------------------------------------------- \n",
      " [[0 0 1]\n",
      " [1 1 1]\n",
      " [1 1 1]]\n"
     ]
    }
   ],
   "source": [
    "\n",
    "mat1 = np.array(np.random.randint(0,6,9)).reshape(3,3)\n",
    "mat2 = np.array(np.random.randint(0,6,9)).reshape(3,3)\n",
    "print(\"\\n1st Matrix of random single-digit numbers\\n----------------------------------------\\n\",mat1)\n",
    "print(\"\\n2nd Matrix of random single-digit numbers\\n----------------------------------------\\n\",mat2)\n",
    "\n",
    "\n",
    "print(\"\\nSq-root of 1st matrix using np\\n------------------\\n\", np.sqrt(mat1))\n",
    "\n",
    "\n",
    "print(\"\\nExponential power of 1st matrix using np\\n\",'-'*50,\"\\n\", pow(mat1,2))\n",
    "\n",
    "\n",
    "print(\"\\n10-base logarithm on 1st matrix using np\\n\",'-'*50,\"\\n\", np.log10(mat1))\n",
    "\n",
    "\n",
    "print(\"\\nModulo reminder using np\\n\",'-'*50,\"\\n\", np.mod(mat1,2))\n"
   ]
  },
  {
   "cell_type": "markdown",
   "metadata": {},
   "source": [
    "### 7.Generating matrices from distributions"
   ]
  },
  {
   "cell_type": "code",
   "execution_count": 40,
   "metadata": {},
   "outputs": [
    {
     "name": "stdout",
     "output_type": "stream",
     "text": [
      "Random number generation (from Uniform distribution)\n",
      "[[0.97006785 0.82618051 0.72117685]\n",
      " [0.14298304 0.73603684 0.36935943]]\n",
      "Numbers from Normal distribution with zero mean and standard deviation 1 i.e. standard normal\n",
      "[[-0.29649269 -1.42566188 -0.68131803]\n",
      " [-1.21105282  0.28860065  0.27832436]]\n",
      "Random integer vector: [11 65 60 61 62 76 69 22 54 18]\n",
      "\n",
      "Random integer matrix\n",
      "\n",
      "20 samples drawn from a dice throw: [4 5 5 6 5 4 3 6 4 1 3 6 5 4 4 6 3 5 1 6]\n"
     ]
    }
   ],
   "source": [
    "\n",
    "print(\"Random number generation (from Uniform distribution)\")\n",
    "print(np.random.rand(2,3)) # 2 by 3 matrix with random numbers ranging from 0 to 1, Note no Tuple is necessary \n",
    "\n",
    "print(\"Numbers from Normal distribution with zero mean and standard deviation 1 i.e. standard normal\")\n",
    "print(np.random.randn(2,3))\n",
    "\n",
    "print(\"Random integer vector:\",np.random.randint(1,100,10)) #randint (low, high, # of samples to be drawn)\n",
    "print (\"\\nRandom integer matrix\")\n",
    "# print(********) #randint (low, high, # of samples to be drawn in a tuple to form a matrix)\n",
    "\n",
    "print(\"\\n20 samples drawn from a dice throw:\",np.array(np.random.randint(1,7,20))) # 20 samples drawn from a dice throw"
   ]
  },
  {
   "cell_type": "markdown",
   "metadata": {},
   "source": [
    "### 8.Find the nearest value from a given number in an array using NumPy."
   ]
  },
  {
   "cell_type": "code",
   "execution_count": 80,
   "metadata": {},
   "outputs": [
    {
     "name": "stdout",
     "output_type": "stream",
     "text": [
      "The random array is \n",
      " -------------------------------------------------- \n",
      " [1 8 9 5 8]\n",
      "Mat after dropping  is \n",
      " -------------------------------------------------- \n",
      " (array([], dtype=int64),)\n",
      "[2, 2]\n",
      "Array after modification\n",
      " -------------------------------------------------- \n",
      " [ 1  8 10  5  8]\n"
     ]
    }
   ],
   "source": [
    "#Steps\n",
    "#Create an array of 5 random element from 1 to 12\n",
    "\n",
    "mat1 = np.array(np.random.randint(1,12,5))\n",
    "print(\"The random array is \\n\",'-'*50,\"\\n\",mat1)\n",
    "mat_min =np.abs(mat1 -10)\n",
    "mat_drop =np.where(mat_min ==0)\n",
    "ls =[]\n",
    "\n",
    "print(\"Mat after dropping  is \\n\",'-'*50,'\\n',mat_drop)\n",
    "mat_new =np.delete(mat_min,mat_drop)\n",
    "\n",
    "\n",
    "\n",
    "# # Suppose find the nearest values of 10 in an array so set value=10\n",
    "for i in mat_min:\n",
    "    if (i == np.argmin(mat_new) ):\n",
    "        ls.append(i)\n",
    "        \n",
    "        \n",
    "print(ls)\n",
    "mat1[ls] =10\n",
    "\n",
    "print(\"Array after modification\\n\",'-'*50,'\\n' ,mat1)\n",
    "\n",
    "# print(np.argmin(np.where(mat1 -10)))\n",
    "\n",
    "#find the index where difference is minimum and get the element"
   ]
  },
  {
   "cell_type": "markdown",
   "metadata": {},
   "source": [
    "### 9.Write code using numpy to produce following output\n",
    "[[0 0 0] [0 1 2] [0 2 4]]"
   ]
  },
  {
   "cell_type": "code",
   "execution_count": null,
   "metadata": {},
   "outputs": [],
   "source": [
    "NA"
   ]
  }
 ],
 "metadata": {
  "kernelspec": {
   "display_name": "Python 3",
   "language": "python",
   "name": "python3"
  },
  "language_info": {
   "codemirror_mode": {
    "name": "ipython",
    "version": 3
   },
   "file_extension": ".py",
   "mimetype": "text/x-python",
   "name": "python",
   "nbconvert_exporter": "python",
   "pygments_lexer": "ipython3",
   "version": "3.7.1"
  }
 },
 "nbformat": 4,
 "nbformat_minor": 2
}
