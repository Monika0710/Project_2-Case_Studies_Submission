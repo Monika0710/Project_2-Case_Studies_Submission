{
 "cells": [
  {
   "cell_type": "markdown",
   "metadata": {},
   "source": [
    "Problem Statement 1: \n",
    "\n",
    "In each of the following situations, state whether it is a correctly stated hypothesis testing problem and why?\n",
    "1. 𝐻0: 𝜇= 25, 𝐻1: 𝜇≠ 25\n",
    "2. 𝐻0: 𝜎> 10, 𝐻1: 𝜎= 10\n",
    "3. 𝐻0: 𝑥= 50, 𝐻1: 𝑥≠ 50\n",
    "4. 𝐻0: 𝑝= 0.1, 𝐻1: 𝑝= 0.5\n",
    "5. 𝐻0: 𝑠= 30, 𝐻1: 𝑠> 30"
   ]
  },
  {
   "cell_type": "code",
   "execution_count": null,
   "metadata": {},
   "outputs": [],
   "source": [
    "1. It is correctly stated hypothesis two sided Problem as we are considering null hypothesis  as mu = 25 \n",
    "and Alternative as opposite of that mu =!25\n",
    "2. It is not correctly Hypothesis Problem as in Null hypothesis we always equalize the value along with > or < .\n",
    "Moreover, given Alternative hypothesis  sigma =10 does not support the null hypothesis as well\n",
    "3. It is correctly hypothesis Problem\n",
    "4. It is not correctly Hypothesis problem as if we have p =0.1 as Null hypothesis,\n",
    "   then we should have p =! 0.1 as alternate hypothesis\n",
    "5.It is correctly Hypothesis Problem"
   ]
  },
  {
   "cell_type": "markdown",
   "metadata": {},
   "source": [
    "Problem Statement 2: \n",
    "\n",
    "The college bookstore tells prospective students that the average cost of its textbooks is Rs. 52 \n",
    "with a standard deviation of Rs. 4.50. A group of smart statistics students thinks that the average cost is higher. \n",
    "To test the bookstore’s claim against their alternative, the students will select a random sample of size 100. \n",
    "Assume that the mean from their random sample is Rs. 52.80. \n",
    "Perform a hypothesis test at the 5% level of significance and state your decision."
   ]
  },
  {
   "cell_type": "code",
   "execution_count": 7,
   "metadata": {},
   "outputs": [
    {
     "name": "stdout",
     "output_type": "stream",
     "text": [
      "The value for Test statistics 1.78 \n",
      "The value of critical value is 1.64 \n",
      "We'll reject the Null Hypothesis\n"
     ]
    }
   ],
   "source": [
    "# H0 mu =>  52\n",
    "# Ha mu < 52\n",
    "# sigma = 4.50\n",
    "# n =100 \n",
    "# X_bar =52.80\n",
    "# alpha =0.05\n",
    "\n",
    "\n",
    "import numpy as np\n",
    "import math\n",
    "from scipy import stats\n",
    "\n",
    "###Calculating Z value\n",
    "\n",
    "z = (52.80 -52)/(4.50/math.sqrt(100))\n",
    "print(\"The value for Test statistics {:.2f} \".format(z))\n",
    "\n",
    "### Calculating  critical values from alpha \n",
    "\n",
    "print (\"The value of critical value is {:.2f} \".format(stats.norm.ppf(0.95)))\n",
    "\n",
    "print (\"We'll reject the Null Hypothesis\")\n",
    "\n",
    "\n",
    "\n",
    "\n"
   ]
  },
  {
   "cell_type": "markdown",
   "metadata": {},
   "source": [
    "Problem Statement 3: \n",
    "    \n",
    "A certain chemical pollutant in the Genesee River has been constant for several years with mean μ = 34 ppm \n",
    "(parts per million) and standard deviation σ = 8 ppm. A group of factory representatives whose companies discharge \n",
    "liquids into the river is now claiming that they have lowered the average with improved filtration devices. \n",
    "A group of environmentalists will test to see if this is true at the 1% level of significance. \n",
    "Assume that their sample of size 50 gives a mean of 32.5 ppm. \n",
    "Perform a hypothesis test at the 1% level of significance and state your decision."
   ]
  },
  {
   "cell_type": "code",
   "execution_count": 12,
   "metadata": {},
   "outputs": [
    {
     "name": "stdout",
     "output_type": "stream",
     "text": [
      "The value for Test statistics -1.33 \n",
      "The value of critical value is -2.33 \n",
      "We'll accept the Null Hypothesis\n"
     ]
    }
   ],
   "source": [
    "# H0 mu =34\n",
    "# Ha mu < 34\n",
    "# alpha =0.01\n",
    "# n =50\n",
    "# X_bar =32.5 \n",
    "# sigma =8\n",
    "\n",
    "\n",
    "###Calculating Z value\n",
    "\n",
    "z = (32.5 -34)/(8/math.sqrt(50))\n",
    "print(\"The value for Test statistics {:.2f} \".format(z))\n",
    "\n",
    "### Calculating  critical values from alpha \n",
    "\n",
    "print (\"The value of critical value is {:.2f} \".format(stats.norm.ppf(0.01)))\n",
    "\n",
    "print (\"We'll accept the Null Hypothesis\")\n",
    "\n",
    "\n"
   ]
  },
  {
   "cell_type": "markdown",
   "metadata": {},
   "source": [
    "Problem Statement 4: \n",
    "    \n",
    "Based on population figures and other general information on the U.S. population, \n",
    "suppose it has been estimated that, on average, a family of four in the U.S. spends about $1135 annually on \n",
    "dental expenditures. Suppose further that a regional dental association wants to test to determine \n",
    "if this figure is accurate for their area of country. To test this,22 families of 4 are randomly selected \n",
    "from the population in that area of the country and a log is kept of the family’s dental expenditure for one year. \n",
    "The resulting data are given below. Assuming, that dental expenditure is normally distributed in the population, \n",
    "use the data and an alpha of 0.5 to test the dental association’s hypothesis.\n",
    "1008, 812, 1117, 1323, 1308, 1415, 831, 1021, 1287, 851, 930, 730, 699,872, 913, 944, 954, 987, 1695, 995, 1003, 994"
   ]
  },
  {
   "cell_type": "code",
   "execution_count": 23,
   "metadata": {},
   "outputs": [
    {
     "name": "stdout",
     "output_type": "stream",
     "text": [
      "T stats are 2.07\n",
      "Critical values are -2.08\n",
      "As T values are less than Critical values ,NUll Hypothesis is accepted\n"
     ]
    }
   ],
   "source": [
    "# lst =[1008, 812, 1117, 1323, 1308, 1415, 831, 1021, 1287, 851, 930, 730, 699,872, 913, 944, 954, 987, 1695, 995, 1003, 994]\n",
    "# X_bar =np.mean(lst)\n",
    "# print(X_bar)\n",
    "# sample_sigma =np.std(lst)\n",
    "# print(sigma)\n",
    "\n",
    "# H0 :\n",
    "mu =1135\n",
    "# Ha mu <> 1135\n",
    "alpha =0.5\n",
    "\n",
    "\n",
    "\n",
    "### As sample sie is small,and std deviatio is not given,We'll use T distribution\n",
    "###Calculating t Stats \n",
    "\n",
    "t =(mu -X_bar)/(sigma/math.sqrt(22))\n",
    "\n",
    "print(\"T stats are {:.2f}\".format(t))\n",
    "\n",
    "print (\"Critical values are {:.2f}\".format(stats.t.ppf(0.025,21)))\n",
    "\n",
    "print(\"As T values are less than Critical values ,NUll Hypothesis is accepted\")\n"
   ]
  },
  {
   "cell_type": "markdown",
   "metadata": {},
   "source": [
    "Problem Statement 5: \n",
    "    \n",
    "In a report prepared by the Economic Research Department of a major bank the Department manager maintains that \n",
    "the average annual family income on Metropolis is $48,432. What do you conclude about the validity of the report\n",
    "if a random sample of 400 families shows and average income of $48,574 with a standard deviation of 2000?"
   ]
  },
  {
   "cell_type": "code",
   "execution_count": 25,
   "metadata": {},
   "outputs": [
    {
     "name": "stdout",
     "output_type": "stream",
     "text": [
      "The value of z is 1.42\n",
      "The value of critical points are -1.96\n"
     ]
    }
   ],
   "source": [
    "# H0 mu =48432\n",
    "# Ha mu <> 48432\n",
    "# n =400\n",
    "# X_bar =48574\n",
    "# sigma =2000\n",
    "\n",
    "### Calculating Z Values \n",
    "\n",
    "z =(48574 -48432)/(2000/math.sqrt(400))\n",
    "\n",
    "print(\"The value of z is {:.2f}\".format(z))\n",
    "\n",
    "### Calculating Critical values \n",
    "\n",
    "print(\"The value of critical points are {:.2f}\".format(stats.norm.ppf(0.025)))\n",
    "\n",
    "print(\"We'll accept the NUll HYpothesis\")"
   ]
  },
  {
   "cell_type": "markdown",
   "metadata": {},
   "source": [
    "Problem Statement 6:\n",
    "    \n",
    "Suppose that in past years the average price per square foot for warehouses in the United States has been $32.28. \n",
    "A national real estate investor wants to determine whether that figure has changed now. The investor hires a \n",
    "researcher who randomly samples 19 warehouses that are for sale across the United States and finds that the \n",
    "mean price per square foot is $31.67, with a standard deviation of $1.29. assume that the prices of warehouse \n",
    "footage are normally distributed in population. If the researcher uses a 5% level of significance, what statistical\n",
    "conclusion can be reached? What are the hypotheses?"
   ]
  },
  {
   "cell_type": "code",
   "execution_count": 28,
   "metadata": {},
   "outputs": [
    {
     "name": "stdout",
     "output_type": "stream",
     "text": [
      "The z value are -2.06\n",
      "The critical values are -1.96\n",
      "The NUll hypothesis is accepted \n"
     ]
    }
   ],
   "source": [
    "### Since std deviation is given,Z stats will be used \n",
    "\n",
    "# H0 mu =32.28\n",
    "# Ha mu <> 32.38\n",
    "\n",
    "# n =19\n",
    "# X_bar =31.67\n",
    "# sigma =1.29\n",
    "# alpha =0.05\n",
    "\n",
    "### Calculating z Stats \n",
    "\n",
    "z =(31.67-32.28)/(1.29/(math.sqrt(19)))\n",
    "\n",
    "print(\"The z value are {:.2f}\".format(z))\n",
    "\n",
    "### Calculating critical values \n",
    "\n",
    "print(\"The critical values are {:.2f}\".format(stats.norm.ppf(0.025)))\n",
    "\n",
    "print(\"The NUll hypothesis is accepted \")"
   ]
  },
  {
   "cell_type": "markdown",
   "metadata": {},
   "source": [
    "Problem Statement 8:\n",
    "    \n",
    "Find the t-score for a sample size of 16 taken from a population with mean 10 \n",
    "when the sample mean is 12 and the sample standard deviation is 1.5."
   ]
  },
  {
   "cell_type": "code",
   "execution_count": 1,
   "metadata": {},
   "outputs": [
    {
     "name": "stdout",
     "output_type": "stream",
     "text": [
      "The value of t score in 5.33\n"
     ]
    }
   ],
   "source": [
    "import numpy as np\n",
    "from scipy import stats \n",
    "import math\n",
    "\n",
    "n =16\n",
    "mu = 10\n",
    "X_bar =12 \n",
    "sigma =1.5 \n",
    "\n",
    "t =(X_bar - mu )/(sigma/(math.sqrt(n)))\n",
    "\n",
    "print(\"The value of t score in {:.2f}\".format(t))"
   ]
  },
  {
   "cell_type": "markdown",
   "metadata": {},
   "source": [
    "Problem Statement 9:\n",
    "    \n",
    "Find the t-score below which we can expect 99% of sample means will fall if samples of size 16 are taken \n",
    "from a normally distributed population"
   ]
  },
  {
   "cell_type": "code",
   "execution_count": 7,
   "metadata": {},
   "outputs": [
    {
     "name": "stdout",
     "output_type": "stream",
     "text": [
      "so the final values for t score is +- -2.95\n"
     ]
    }
   ],
   "source": [
    "# 1 -alpha =0.99\n",
    "# n=16\n",
    "\n",
    "t = stats.t.ppf(0.005,15)\n",
    "\n",
    "print(\"so the final values for t score is +- {:.2f}\".format(t))\n"
   ]
  },
  {
   "cell_type": "markdown",
   "metadata": {},
   "source": [
    "Problem Statement 10: \n",
    "    \n",
    "If a random sample of size 25 drawn from a normal population gives a mean of 60 and a standard deviation of 4, \n",
    "find the range of t-scores where we can expect to find the middle 95% of all sample means. \n",
    "Compute the probability that (−𝑡0.05 <𝑡<𝑡0.10)."
   ]
  },
  {
   "cell_type": "code",
   "execution_count": 15,
   "metadata": {},
   "outputs": [
    {
     "name": "stdout",
     "output_type": "stream",
     "text": [
      "the value of t score is (-2.3909493151293866, 2.390949315129389)\n",
      "The probability is 0.019680605913527716\n"
     ]
    }
   ],
   "source": [
    "# n =25\n",
    "# mu =60\n",
    "# sigma =4\n",
    "\n",
    "\n",
    "# t =stats.t.ppf(0.025,24)\n",
    "\n",
    "stats.t.interval(0.025,24)\n",
    "\n",
    "\n",
    "print(\"the value of t score is {}\".format(stats.t.interval(0.975,24)))\n",
    "print(\"The probability is {}\".format(stats.t.cdf(0.10,24)-stats.t.cdf(0.05,24)))\n",
    "\n",
    "\n",
    "\n"
   ]
  },
  {
   "cell_type": "markdown",
   "metadata": {},
   "source": [
    "Problem Statement 11:\n",
    "    \n",
    "Two-tailed test for difference between two population meansIs there evidence to conclude that the number of people \n",
    "travelling from Bangalore to Chennai is different from the number of people travelling from Bangalore to Hosur \n",
    "in a week, given the following:\n",
    "Population 1: Bangalore to Chennai \n",
    "    n1 = 1200\n",
    "    x1 = 452\n",
    "    s1= 212\n",
    "        \n",
    "Population 2: Bangalore to Hosur \n",
    "    n2 = 800\n",
    "    x2 = 523\n",
    "    s2 = 185"
   ]
  },
  {
   "cell_type": "code",
   "execution_count": 20,
   "metadata": {},
   "outputs": [
    {
     "name": "stdout",
     "output_type": "stream",
     "text": [
      "The Sample Std Deviation is 8.957375917830698\n",
      "the Z value is 7.93\n",
      "the critical values are -1.9599639845400545\n",
      "Null hypothesis is rejected \n"
     ]
    }
   ],
   "source": [
    "# import numpy as np\n",
    "# from scipy import stats\n",
    "import math\n",
    "\n",
    "### Calculating variance \n",
    "\n",
    "\n",
    "S =math.sqrt(((212**2)/(1200))+ ((185**2)/(800)))\n",
    "\n",
    "print(\"The Sample Std Deviation is {}\".format(S))\n",
    "Z =((523 -452)-0)/S\n",
    "\n",
    "print(\"the Z value is {:.2f}\".format(Z))\n",
    "\n",
    "### Calculating critical values \n",
    "\n",
    "print(\"the critical values are {}\".format(stats.norm.ppf(0.025)))\n",
    "\n",
    "print(\"Null hypothesis is rejected \")"
   ]
  },
  {
   "cell_type": "markdown",
   "metadata": {},
   "source": [
    "Problem Statement 12:\n",
    "    \n",
    "Is there evidence to conclude that the number of people preferring Duracell battery is different from the number\n",
    "of people preferring Energizer battery, given the following:\n",
    "    \n",
    "Population 1: Duracell\n",
    "    n1 = 100\n",
    "    x1 = 308\n",
    "    s1 = 84\n",
    "Population 2: Energizer\n",
    "        n2 = 100\n",
    "        x2 = 254\n",
    "        s2 = 67\n"
   ]
  },
  {
   "cell_type": "code",
   "execution_count": 3,
   "metadata": {},
   "outputs": [
    {
     "name": "stdout",
     "output_type": "stream",
     "text": [
      "Z value is 5.025702668336442\n",
      "The critical values are -1.9599639845400545\n",
      "Null hypotheisi is rejectd \n"
     ]
    }
   ],
   "source": [
    "#### Considering  that population parameters are same for bothDuracell and Energizer \n",
    "###NUll Hypothesis mu1 =mu2\n",
    "\n",
    "from scipy import stats \n",
    "import math\n",
    "### Calculting sample std deviation####\n",
    "\n",
    "s = math.sqrt((67**2/100 )+(84**2/100))\n",
    "### Calculating Z values \n",
    "z =((308 -254) -0)/s\n",
    "\n",
    "print(\"Z value is {}\".format(z))\n",
    "\n",
    "#### Considering 95% confidence interval,Critical values are \n",
    "\n",
    "print(\"The critical values are {}\".format(stats.norm.ppf(0.025)))\n",
    "\n",
    "print(\"Null hypothesis is rejectd \")\n",
    "\n"
   ]
  },
  {
   "cell_type": "code",
   "execution_count": null,
   "metadata": {},
   "outputs": [],
   "source": [
    "Problem Statement 13:"
   ]
  },
  {
   "cell_type": "markdown",
   "metadata": {},
   "source": [
    "Problem Statement 14:\n",
    "The manufacturers of compact disk players want to test whether a small price reduction is enough to \n",
    "increase sales of their product. Is there evidence that the small price reduction is enough to increase \n",
    "sales of compact disk players?\n",
    "Population 1: \n",
    "Before reduction\n",
    "n1 = 15\n",
    "x1 = Rs. 6598\n",
    "s1 = Rs. 844\n",
    "Population 2: \n",
    "After reduction \n",
    "n2 = 12\n",
    "x2 = RS. 6870\n",
    "s2 = Rs. 669"
   ]
  },
  {
   "cell_type": "code",
   "execution_count": null,
   "metadata": {},
   "outputs": [],
   "source": [
    "Problem Statement 15: \n",
    "Comparisons of two population proportions when the hypothesized difference is zero Carry out a \n",
    "two-tailed test of the equalityof banks’ share of the car loan market in 1980 and 1995.\n",
    "Population 1: 1980\n",
    "    n1 = 100\n",
    "    x1 = 53\n",
    "    𝑝1 = 0.53\n",
    "Population 2: 1985\n",
    "    n2 = 100\n",
    "    x2 = 43\n",
    "    𝑝2= 0.43"
   ]
  },
  {
   "cell_type": "code",
   "execution_count": 17,
   "metadata": {},
   "outputs": [
    {
     "name": "stdout",
     "output_type": "stream",
     "text": [
      "The pooled proportions is 0.48\n",
      "The z values is 1.42\n",
      "The critical values are -1.9599639845400545\n",
      "As Z values is less than the critical values ,NULL hypothesis is not rejected\n"
     ]
    }
   ],
   "source": [
    "##Since p1 and p2 are equal,Caluclating Pooled propportions \n",
    "\n",
    "p =(53+43)/(100+100)\n",
    "print(\"The pooled proportions is {:.2f}\".format(p))\n",
    "\n",
    "\n",
    "\n",
    "###### Calculating z Values \n",
    "\n",
    "z =(0.53 -0.43)/(math.sqrt((0.48*(1-0.48))*(1/100 +1/100)))\n",
    "\n",
    "\n",
    "print(\"The z values is {:.2f}\".format(z))\n",
    "print(\"The critical values are {}\".format(stats.norm.ppf(0.025)))\n",
    "print(\"As Z values is less than the critical values ,NULL hypothesis is not rejected\")"
   ]
  },
  {
   "cell_type": "markdown",
   "metadata": {},
   "source": [
    "Problem Statement 16: \n",
    "Carry out a one-tailed test to determine whether the population proportionof traveler’s check buyers \n",
    "who buy at least $2500 in checks when sweepstakes prizes are offered as at least 10% higher than the \n",
    "proportion of such buyers when no sweepstakes are on.\n",
    "Population 1: \n",
    "    With sweepstakes\n",
    "    n1 = 300\n",
    "    x1 = 120\n",
    "    𝑝1    = 0.40\n",
    "    Population 2: No sweepstakes \n",
    "    n2 = 700\n",
    "    x2 = 140\n",
    "    𝑝2= 0.20\n",
    "   "
   ]
  },
  {
   "cell_type": "code",
   "execution_count": 23,
   "metadata": {},
   "outputs": [
    {
     "name": "stdout",
     "output_type": "stream",
     "text": [
      "The z values is 3.1180478223116177\n",
      "The critical values for one tailed test -1.6448536269514729\n",
      "NUll HYpothesis is rejected\n"
     ]
    }
   ],
   "source": [
    "### H0 p1 <= p2 +0.10 and Ha p1 > p2+0.10\n",
    "\n",
    "###Since ther eis proportion deviation is given,then no need for pooled proportion\n",
    "\n",
    "### Calculating z Value \n",
    "\n",
    "z = (0.40 -0.20 - 0.10)/math.sqrt((0.40*(1-0.40)/300)+(0.20*(1-0.20)/700))\n",
    "print(\"The z values is {}\".format(z))\n",
    "\n",
    "### Calculating critical values \n",
    "\n",
    "print(\"The critical values for one tailed test {}\".format(stats.norm.ppf(0.05)))\n",
    "\n",
    "print(\"NUll HYpothesis is rejected\")\n"
   ]
  },
  {
   "cell_type": "markdown",
   "metadata": {},
   "source": [
    "Problem Statement 17:\n",
    "A die is thrown 132 times with the following results:\n",
    "Number turned up: 1, 2, 3, 4, 5, 6\n",
    "Frequency: 16, 20, 25, 14, 29, 28\n",
    "Is the die unbiased? Consider the degrees of freedom as 𝑝− 1 ."
   ]
  },
  {
   "cell_type": "code",
   "execution_count": 33,
   "metadata": {},
   "outputs": [
    {
     "name": "stdout",
     "output_type": "stream",
     "text": [
      "Chi squate test x square 9.0\n",
      "The value of x2 11.070497693516351\n",
      "Null hypothesis is accepted\n"
     ]
    }
   ],
   "source": [
    "#### H0  Die is unbiased ,Ha Die is biased \n",
    "###performing Chi square test\n",
    "\n",
    "### alpha =0.05\n",
    "###On the basis of hypothesis that the die is unbiased, \n",
    "###we expect each number to turn up, 132/6=22 times (Expected number for each value)\n",
    "e =22\n",
    "\n",
    "lst =[16, 20, 25, 14, 29, 28]\n",
    "b =0\n",
    "a =0\n",
    "for i in lst:\n",
    "    a = ((i-e)**2)/e\n",
    "    b=a+b\n",
    "    \n",
    "\n",
    "print(\"Chi squate test x square {}\".format(b))\n",
    "\n",
    "print(\"The value of x2 {}\".format(stats.chi2.ppf(0.95,5)))\n",
    "\n",
    "\n",
    "print(\"Null hypothesis is accepted\")\n",
    "\n",
    "\n"
   ]
  },
  {
   "cell_type": "markdown",
   "metadata": {},
   "source": [
    "Problem Statement 18:\n",
    "In a certain town, there are about one million eligible voters. A simple random sample of 10000 eligible \n",
    "voters was chosen to study the relationship between gender and participation in the last election. \n",
    "The results are summarized in the following 2X2 (read two by two) contingency table:\n",
    "   \n",
    "                    Men                   Women        Total \n",
    "Voted               2792                  3591         6383 \n",
    "Not Voted           1486                  2131         3617   \n",
    "Total               4278                  5722          10000\n",
    "    \n",
    "We would want to check whether being a man or a woman (columns) is independent of having \n",
    "voted in the last election (rows). \n",
    "In other words, is \"gender and voting independent\"?    "
   ]
  },
  {
   "cell_type": "code",
   "execution_count": 56,
   "metadata": {},
   "outputs": [
    {
     "name": "stdout",
     "output_type": "stream",
     "text": [
      "X2 values is 11.047127049661404\n",
      "Calcualted X2 value is 3.841458820694124\n"
     ]
    }
   ],
   "source": [
    "### H0 Gender and voting are independent \n",
    "\n",
    "###Usng chi sqaure \n",
    "\n",
    "E_2972 =(4278*6383)/10000\n",
    "E_3591= 6383*5722/10000\n",
    "E_1486 = 4278*3717/10000\n",
    "E_2131 =5722*3617/10000\n",
    "\n",
    "lst =[E_2972,E_3591,E_1486,E_2131]\n",
    "lst_1 =[2792,3591,1486,2131]\n",
    "\n",
    "b =0\n",
    "a=0\n",
    "for i,j in zip(lst,lst_1):\n",
    "    a= ((i-j)**2)/i\n",
    "\n",
    "    b=a+b\n",
    "print(\"X2 values is {}\".format(b))\n",
    "df =(2-1)*(2-1)\n",
    "\n",
    "print(\"Calcualted X2 value is {}\".format(stats.chi2.ppf(0.95,df)))\n",
    "\n",
    "\n",
    "print(\"NUll hypothesis is Rejected \")\n",
    "    "
   ]
  },
  {
   "cell_type": "markdown",
   "metadata": {},
   "source": [
    "Problem Statement 19:\n",
    "A sample of 100 voters are asked which of four candidates they would vote for in an election. \n",
    "The number supporting each candidate is given below:\n",
    "\n",
    "    Higgins    Reardon    White   Charlton\n",
    "    41          19        24           16\n",
    "    \n",
    "    \n",
    "Do the data suggest that all candidates are equally popular? Chi-Square = 14.96, with 3 df, 𝑝  =  0.05"
   ]
  },
  {
   "cell_type": "code",
   "execution_count": 58,
   "metadata": {},
   "outputs": [
    {
     "name": "stdout",
     "output_type": "stream",
     "text": [
      "Calcualted chi square value 7.814727903251179\n"
     ]
    }
   ],
   "source": [
    "#### H0 All candiates are equal\n",
    "\n",
    "print(\"Calcualted chi square value {}\".format(stats.chi2.ppf(0.95,3)))\n",
    "print(\"Reject the Null HYpothesis\")"
   ]
  },
  {
   "cell_type": "markdown",
   "metadata": {},
   "source": [
    "Problem Statement 20:\n",
    "Children of three ages are asked to indicate their preference for three photographs of adults. \n",
    "Do the data suggest that there is a significant relationship between age and photograph preference?\n",
    "What is wrong with this study? Chi-Square = 29.6, with 4 df:𝑝< 0.05]."
   ]
  },
  {
   "cell_type": "code",
   "execution_count": 60,
   "metadata": {},
   "outputs": [
    {
     "name": "stdout",
     "output_type": "stream",
     "text": [
      "Calcualted chi square value 9.487729036781154\n",
      "Reject the Null HYpothesis\n"
     ]
    }
   ],
   "source": [
    "###H0 There is no preference of photographs \n",
    "\n",
    "print(\"Calcualted chi square value {}\".format(stats.chi2.ppf(0.95,4)))\n",
    "print(\"Reject the Null HYpothesis\")\n"
   ]
  },
  {
   "cell_type": "markdown",
   "metadata": {},
   "source": [
    "Problem Statement 21: \n",
    "A study of conformity using the Asch paradigm involved two conditions:\n",
    "    one where one confederate supported the true judgementand \n",
    "    another where no confederate gave the correct response.\n",
    "    \n",
    "    Is there a significant difference between the \"support\" and \"no support\" conditions in the frequency \n",
    "    with which individuals are likely to conform? [Chi-Square = 19.87, with 1 df:𝑝< 0.05]."
   ]
  },
  {
   "cell_type": "code",
   "execution_count": 61,
   "metadata": {},
   "outputs": [
    {
     "name": "stdout",
     "output_type": "stream",
     "text": [
      "Calcualted chi square value 3.841458820694124\n",
      "Reject the Null HYpothesis\n"
     ]
    }
   ],
   "source": [
    "###H0 There is no diff between conditions \n",
    "\n",
    "print(\"Calcualted chi square value {}\".format(stats.chi2.ppf(0.95,1)))\n",
    "print(\"Reject the Null HYpothesis\")\n"
   ]
  },
  {
   "cell_type": "markdown",
   "metadata": {},
   "source": [
    "Problem Statement 22:\n",
    "We want to test whether short people differ with respect to their leadership qualities\n",
    "(Genghis Khan, Adolf Hitler and Napoleon were all stature-deprived, and how many midget MP's are there?)\n",
    " The following table shows the frequencies with which 43 short people and 52 tall people were categorized \n",
    " as \"leaders\", \"followers\" or as \"unclassifiable\". Is there a relationship between height and leadership qualities? \n",
    " Chi-Square = 10.71, with 2 df: 𝑝< 0.01"
   ]
  },
  {
   "cell_type": "code",
   "execution_count": 63,
   "metadata": {},
   "outputs": [
    {
     "name": "stdout",
     "output_type": "stream",
     "text": [
      "Calcualted chi square value 9.21034037197618\n",
      "Reject the Null HYpothesis\n"
     ]
    }
   ],
   "source": [
    "###H0 There is no relation  between heights and leadership \n",
    "\n",
    "print(\"Calcualted chi square value {}\".format(stats.chi2.ppf(0.99,2)))\n",
    "print(\"Reject the Null HYpothesis\")"
   ]
  }
 ],
 "metadata": {
  "kernelspec": {
   "display_name": "Python 3",
   "language": "python",
   "name": "python3"
  },
  "language_info": {
   "codemirror_mode": {
    "name": "ipython",
    "version": 3
   },
   "file_extension": ".py",
   "mimetype": "text/x-python",
   "name": "python",
   "nbconvert_exporter": "python",
   "pygments_lexer": "ipython3",
   "version": "3.7.1"
  }
 },
 "nbformat": 4,
 "nbformat_minor": 2
}
